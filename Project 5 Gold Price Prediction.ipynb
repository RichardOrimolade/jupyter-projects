{
 "cells": [
  {
   "cell_type": "code",
   "execution_count": 44,
   "id": "434ac661",
   "metadata": {},
   "outputs": [],
   "source": [
    "# Importig the Libraries\n",
    "\n",
    "import numpy as np\n",
    "import pandas as pd\n",
    "import matplotlib.pyplot as plt\n",
    "import seaborn as sns\n",
    "from sklearn.model_selection import train_test_split\n",
    "from sklearn.ensemble import RandomForestRegressor\n",
    "from sklearn import metrics\n",
    "\n",
    "import warnings\n",
    "warnings.filterwarnings('ignore')"
   ]
  },
  {
   "cell_type": "code",
   "execution_count": 45,
   "id": "2b08e0f9",
   "metadata": {},
   "outputs": [],
   "source": [
    "# loading the dataset\n",
    "gold_data = pd.read_csv('gld_price_data.csv')"
   ]
  },
  {
   "cell_type": "code",
   "execution_count": 46,
   "id": "e8d8432a",
   "metadata": {},
   "outputs": [
    {
     "data": {
      "text/html": [
       "<div>\n",
       "<style scoped>\n",
       "    .dataframe tbody tr th:only-of-type {\n",
       "        vertical-align: middle;\n",
       "    }\n",
       "\n",
       "    .dataframe tbody tr th {\n",
       "        vertical-align: top;\n",
       "    }\n",
       "\n",
       "    .dataframe thead th {\n",
       "        text-align: right;\n",
       "    }\n",
       "</style>\n",
       "<table border=\"1\" class=\"dataframe\">\n",
       "  <thead>\n",
       "    <tr style=\"text-align: right;\">\n",
       "      <th></th>\n",
       "      <th>Date</th>\n",
       "      <th>SPX</th>\n",
       "      <th>GLD</th>\n",
       "      <th>USO</th>\n",
       "      <th>SLV</th>\n",
       "      <th>EUR/USD</th>\n",
       "    </tr>\n",
       "  </thead>\n",
       "  <tbody>\n",
       "    <tr>\n",
       "      <th>0</th>\n",
       "      <td>01/02/2008</td>\n",
       "      <td>1447.160034</td>\n",
       "      <td>84.860001</td>\n",
       "      <td>78.470001</td>\n",
       "      <td>15.180</td>\n",
       "      <td>1.471692</td>\n",
       "    </tr>\n",
       "    <tr>\n",
       "      <th>1</th>\n",
       "      <td>01/03/2008</td>\n",
       "      <td>1447.160034</td>\n",
       "      <td>85.570000</td>\n",
       "      <td>78.370003</td>\n",
       "      <td>15.285</td>\n",
       "      <td>1.474491</td>\n",
       "    </tr>\n",
       "    <tr>\n",
       "      <th>2</th>\n",
       "      <td>01/04/2008</td>\n",
       "      <td>1411.630005</td>\n",
       "      <td>85.129997</td>\n",
       "      <td>77.309998</td>\n",
       "      <td>15.167</td>\n",
       "      <td>1.475492</td>\n",
       "    </tr>\n",
       "    <tr>\n",
       "      <th>3</th>\n",
       "      <td>01/07/2008</td>\n",
       "      <td>1416.180054</td>\n",
       "      <td>84.769997</td>\n",
       "      <td>75.500000</td>\n",
       "      <td>15.053</td>\n",
       "      <td>1.468299</td>\n",
       "    </tr>\n",
       "    <tr>\n",
       "      <th>4</th>\n",
       "      <td>01/08/2008</td>\n",
       "      <td>1390.189941</td>\n",
       "      <td>86.779999</td>\n",
       "      <td>76.059998</td>\n",
       "      <td>15.590</td>\n",
       "      <td>1.557099</td>\n",
       "    </tr>\n",
       "  </tbody>\n",
       "</table>\n",
       "</div>"
      ],
      "text/plain": [
       "         Date          SPX        GLD        USO     SLV   EUR/USD\n",
       "0  01/02/2008  1447.160034  84.860001  78.470001  15.180  1.471692\n",
       "1  01/03/2008  1447.160034  85.570000  78.370003  15.285  1.474491\n",
       "2  01/04/2008  1411.630005  85.129997  77.309998  15.167  1.475492\n",
       "3  01/07/2008  1416.180054  84.769997  75.500000  15.053  1.468299\n",
       "4  01/08/2008  1390.189941  86.779999  76.059998  15.590  1.557099"
      ]
     },
     "execution_count": 46,
     "metadata": {},
     "output_type": "execute_result"
    }
   ],
   "source": [
    "# print first 5 rows in the DataFrame\n",
    "gold_data.head()"
   ]
  },
  {
   "cell_type": "code",
   "execution_count": 47,
   "id": "b983850d",
   "metadata": {},
   "outputs": [
    {
     "data": {
      "text/html": [
       "<div>\n",
       "<style scoped>\n",
       "    .dataframe tbody tr th:only-of-type {\n",
       "        vertical-align: middle;\n",
       "    }\n",
       "\n",
       "    .dataframe tbody tr th {\n",
       "        vertical-align: top;\n",
       "    }\n",
       "\n",
       "    .dataframe thead th {\n",
       "        text-align: right;\n",
       "    }\n",
       "</style>\n",
       "<table border=\"1\" class=\"dataframe\">\n",
       "  <thead>\n",
       "    <tr style=\"text-align: right;\">\n",
       "      <th></th>\n",
       "      <th>Date</th>\n",
       "      <th>SPX</th>\n",
       "      <th>GLD</th>\n",
       "      <th>USO</th>\n",
       "      <th>SLV</th>\n",
       "      <th>EUR/USD</th>\n",
       "    </tr>\n",
       "  </thead>\n",
       "  <tbody>\n",
       "    <tr>\n",
       "      <th>2285</th>\n",
       "      <td>05/08/2018</td>\n",
       "      <td>2671.919922</td>\n",
       "      <td>124.589996</td>\n",
       "      <td>14.0600</td>\n",
       "      <td>15.5100</td>\n",
       "      <td>1.186789</td>\n",
       "    </tr>\n",
       "    <tr>\n",
       "      <th>2286</th>\n",
       "      <td>05/09/2018</td>\n",
       "      <td>2697.790039</td>\n",
       "      <td>124.330002</td>\n",
       "      <td>14.3700</td>\n",
       "      <td>15.5300</td>\n",
       "      <td>1.184722</td>\n",
       "    </tr>\n",
       "    <tr>\n",
       "      <th>2287</th>\n",
       "      <td>05/10/2018</td>\n",
       "      <td>2723.070068</td>\n",
       "      <td>125.180000</td>\n",
       "      <td>14.4100</td>\n",
       "      <td>15.7400</td>\n",
       "      <td>1.191753</td>\n",
       "    </tr>\n",
       "    <tr>\n",
       "      <th>2288</th>\n",
       "      <td>5/14/2018</td>\n",
       "      <td>2730.129883</td>\n",
       "      <td>124.489998</td>\n",
       "      <td>14.3800</td>\n",
       "      <td>15.5600</td>\n",
       "      <td>1.193118</td>\n",
       "    </tr>\n",
       "    <tr>\n",
       "      <th>2289</th>\n",
       "      <td>5/16/2018</td>\n",
       "      <td>2725.780029</td>\n",
       "      <td>122.543800</td>\n",
       "      <td>14.4058</td>\n",
       "      <td>15.4542</td>\n",
       "      <td>1.182033</td>\n",
       "    </tr>\n",
       "  </tbody>\n",
       "</table>\n",
       "</div>"
      ],
      "text/plain": [
       "            Date          SPX         GLD      USO      SLV   EUR/USD\n",
       "2285  05/08/2018  2671.919922  124.589996  14.0600  15.5100  1.186789\n",
       "2286  05/09/2018  2697.790039  124.330002  14.3700  15.5300  1.184722\n",
       "2287  05/10/2018  2723.070068  125.180000  14.4100  15.7400  1.191753\n",
       "2288   5/14/2018  2730.129883  124.489998  14.3800  15.5600  1.193118\n",
       "2289   5/16/2018  2725.780029  122.543800  14.4058  15.4542  1.182033"
      ]
     },
     "execution_count": 47,
     "metadata": {},
     "output_type": "execute_result"
    }
   ],
   "source": [
    "# print last 5 rows of the DataFrame\n",
    "gold_data.tail()"
   ]
  },
  {
   "cell_type": "code",
   "execution_count": 48,
   "id": "840375e5",
   "metadata": {},
   "outputs": [
    {
     "data": {
      "text/plain": [
       "(2290, 6)"
      ]
     },
     "execution_count": 48,
     "metadata": {},
     "output_type": "execute_result"
    }
   ],
   "source": [
    "# number of rows and column\n",
    "gold_data.shape"
   ]
  },
  {
   "cell_type": "code",
   "execution_count": 49,
   "id": "ebef72e3",
   "metadata": {},
   "outputs": [
    {
     "name": "stdout",
     "output_type": "stream",
     "text": [
      "<class 'pandas.core.frame.DataFrame'>\n",
      "RangeIndex: 2290 entries, 0 to 2289\n",
      "Data columns (total 6 columns):\n",
      " #   Column   Non-Null Count  Dtype  \n",
      "---  ------   --------------  -----  \n",
      " 0   Date     2290 non-null   object \n",
      " 1   SPX      2290 non-null   float64\n",
      " 2   GLD      2290 non-null   float64\n",
      " 3   USO      2290 non-null   float64\n",
      " 4   SLV      2290 non-null   float64\n",
      " 5   EUR/USD  2290 non-null   float64\n",
      "dtypes: float64(5), object(1)\n",
      "memory usage: 107.5+ KB\n"
     ]
    }
   ],
   "source": [
    "# getting some basic information about the data\n",
    "gold_data.info()"
   ]
  },
  {
   "cell_type": "code",
   "execution_count": 50,
   "id": "4112678c",
   "metadata": {},
   "outputs": [
    {
     "data": {
      "text/plain": [
       "Date       0\n",
       "SPX        0\n",
       "GLD        0\n",
       "USO        0\n",
       "SLV        0\n",
       "EUR/USD    0\n",
       "dtype: int64"
      ]
     },
     "execution_count": 50,
     "metadata": {},
     "output_type": "execute_result"
    }
   ],
   "source": [
    "# checking number of missing values\n",
    "gold_data.isnull().sum()"
   ]
  },
  {
   "cell_type": "code",
   "execution_count": 51,
   "id": "2132a12d",
   "metadata": {},
   "outputs": [
    {
     "data": {
      "text/html": [
       "<div>\n",
       "<style scoped>\n",
       "    .dataframe tbody tr th:only-of-type {\n",
       "        vertical-align: middle;\n",
       "    }\n",
       "\n",
       "    .dataframe tbody tr th {\n",
       "        vertical-align: top;\n",
       "    }\n",
       "\n",
       "    .dataframe thead th {\n",
       "        text-align: right;\n",
       "    }\n",
       "</style>\n",
       "<table border=\"1\" class=\"dataframe\">\n",
       "  <thead>\n",
       "    <tr style=\"text-align: right;\">\n",
       "      <th></th>\n",
       "      <th>SPX</th>\n",
       "      <th>GLD</th>\n",
       "      <th>USO</th>\n",
       "      <th>SLV</th>\n",
       "      <th>EUR/USD</th>\n",
       "    </tr>\n",
       "  </thead>\n",
       "  <tbody>\n",
       "    <tr>\n",
       "      <th>count</th>\n",
       "      <td>2290.000000</td>\n",
       "      <td>2290.000000</td>\n",
       "      <td>2290.000000</td>\n",
       "      <td>2290.000000</td>\n",
       "      <td>2290.000000</td>\n",
       "    </tr>\n",
       "    <tr>\n",
       "      <th>mean</th>\n",
       "      <td>1654.315776</td>\n",
       "      <td>122.732875</td>\n",
       "      <td>31.842221</td>\n",
       "      <td>20.084997</td>\n",
       "      <td>1.283653</td>\n",
       "    </tr>\n",
       "    <tr>\n",
       "      <th>std</th>\n",
       "      <td>519.111540</td>\n",
       "      <td>23.283346</td>\n",
       "      <td>19.523517</td>\n",
       "      <td>7.092566</td>\n",
       "      <td>0.131547</td>\n",
       "    </tr>\n",
       "    <tr>\n",
       "      <th>min</th>\n",
       "      <td>676.530029</td>\n",
       "      <td>70.000000</td>\n",
       "      <td>7.960000</td>\n",
       "      <td>8.850000</td>\n",
       "      <td>1.039047</td>\n",
       "    </tr>\n",
       "    <tr>\n",
       "      <th>25%</th>\n",
       "      <td>1239.874969</td>\n",
       "      <td>109.725000</td>\n",
       "      <td>14.380000</td>\n",
       "      <td>15.570000</td>\n",
       "      <td>1.171313</td>\n",
       "    </tr>\n",
       "    <tr>\n",
       "      <th>50%</th>\n",
       "      <td>1551.434998</td>\n",
       "      <td>120.580002</td>\n",
       "      <td>33.869999</td>\n",
       "      <td>17.268500</td>\n",
       "      <td>1.303297</td>\n",
       "    </tr>\n",
       "    <tr>\n",
       "      <th>75%</th>\n",
       "      <td>2073.010070</td>\n",
       "      <td>132.840004</td>\n",
       "      <td>37.827501</td>\n",
       "      <td>22.882500</td>\n",
       "      <td>1.369971</td>\n",
       "    </tr>\n",
       "    <tr>\n",
       "      <th>max</th>\n",
       "      <td>2872.870117</td>\n",
       "      <td>184.589996</td>\n",
       "      <td>117.480003</td>\n",
       "      <td>47.259998</td>\n",
       "      <td>1.598798</td>\n",
       "    </tr>\n",
       "  </tbody>\n",
       "</table>\n",
       "</div>"
      ],
      "text/plain": [
       "               SPX          GLD          USO          SLV      EUR/USD\n",
       "count  2290.000000  2290.000000  2290.000000  2290.000000  2290.000000\n",
       "mean   1654.315776   122.732875    31.842221    20.084997     1.283653\n",
       "std     519.111540    23.283346    19.523517     7.092566     0.131547\n",
       "min     676.530029    70.000000     7.960000     8.850000     1.039047\n",
       "25%    1239.874969   109.725000    14.380000    15.570000     1.171313\n",
       "50%    1551.434998   120.580002    33.869999    17.268500     1.303297\n",
       "75%    2073.010070   132.840004    37.827501    22.882500     1.369971\n",
       "max    2872.870117   184.589996   117.480003    47.259998     1.598798"
      ]
     },
     "execution_count": 51,
     "metadata": {},
     "output_type": "execute_result"
    }
   ],
   "source": [
    "# getting the statistical measure of the data\n",
    "gold_data.describe()"
   ]
  },
  {
   "cell_type": "code",
   "execution_count": 52,
   "id": "ab756e60",
   "metadata": {},
   "outputs": [],
   "source": [
    "# Finding correlation amongst the independents variable of this dataset\n",
    "#Types of correlations: Positive and Negative Correlation\n",
    "correlation = gold_data.corr()"
   ]
  },
  {
   "cell_type": "code",
   "execution_count": 53,
   "id": "3413f680",
   "metadata": {},
   "outputs": [
    {
     "data": {
      "text/plain": [
       "<AxesSubplot:>"
      ]
     },
     "execution_count": 53,
     "metadata": {},
     "output_type": "execute_result"
    },
    {
     "data": {
      "image/png": "[encoded data removed]",
      "text/plain": [
       "<Figure size 576x576 with 2 Axes>"
      ]
     },
     "metadata": {
      "needs_background": "light"
     },
     "output_type": "display_data"
    }
   ],
   "source": [
    "# Constructing a heatmap to understanding the correlation\n",
    "plt.figure(figsize = (8,8))\n",
    "sns.heatmap(correlation, cbar=True, square=True, fmt='.1f',annot=True, annot_kws={'size':8}, cmap='Blues')"
   ]
  },
  {
   "cell_type": "code",
   "execution_count": 54,
   "id": "318fb9a9",
   "metadata": {},
   "outputs": [
    {
     "name": "stdout",
     "output_type": "stream",
     "text": [
      "SPX        0.049345\n",
      "GLD        1.000000\n",
      "USO       -0.186360\n",
      "SLV        0.866632\n",
      "EUR/USD   -0.024375\n",
      "Name: GLD, dtype: float64\n"
     ]
    }
   ],
   "source": [
    "# Correlation values of GLD \n",
    "print(correlation['GLD'])"
   ]
  },
  {
   "cell_type": "code",
   "execution_count": 58,
   "id": "d28d65fc",
   "metadata": {},
   "outputs": [
    {
     "data": {
      "text/plain": [
       "<AxesSubplot:xlabel='GLD', ylabel='Density'>"
      ]
     },
     "execution_count": 58,
     "metadata": {},
     "output_type": "execute_result"
    },
    {
     "data": {
      "image/png": "[encoded data removed]",
      "text/plain": [
       "<Figure size 432x288 with 1 Axes>"
      ]
     },
     "metadata": {
      "needs_background": "light"
     },
     "output_type": "display_data"
    }
   ],
   "source": [
    "# Checking the distriution of the GLD Price\n",
    "sns.distplot(gold_data['GLD'],color='green')"
   ]
  },
  {
   "cell_type": "code",
   "execution_count": 64,
   "id": "edcba946",
   "metadata": {},
   "outputs": [],
   "source": [
    "# Spliting the Features and Target (GLD)\n",
    "\n",
    "X = gold_data.drop(['Date','GLD'],axis=1)\n",
    "Y = gold_data['GLD']"
   ]
  },
  {
   "cell_type": "code",
   "execution_count": 67,
   "id": "8ccf3618",
   "metadata": {},
   "outputs": [
    {
     "name": "stdout",
     "output_type": "stream",
     "text": [
      "              SPX        USO      SLV   EUR/USD\n",
      "0     1447.160034  78.470001  15.1800  1.471692\n",
      "1     1447.160034  78.370003  15.2850  1.474491\n",
      "2     1411.630005  77.309998  15.1670  1.475492\n",
      "3     1416.180054  75.500000  15.0530  1.468299\n",
      "4     1390.189941  76.059998  15.5900  1.557099\n",
      "...           ...        ...      ...       ...\n",
      "2285  2671.919922  14.060000  15.5100  1.186789\n",
      "2286  2697.790039  14.370000  15.5300  1.184722\n",
      "2287  2723.070068  14.410000  15.7400  1.191753\n",
      "2288  2730.129883  14.380000  15.5600  1.193118\n",
      "2289  2725.780029  14.405800  15.4542  1.182033\n",
      "\n",
      "[2290 rows x 4 columns]\n",
      "0        84.860001\n",
      "1        85.570000\n",
      "2        85.129997\n",
      "3        84.769997\n",
      "4        86.779999\n",
      "           ...    \n",
      "2285    124.589996\n",
      "2286    124.330002\n",
      "2287    125.180000\n",
      "2288    124.489998\n",
      "2289    122.543800\n",
      "Name: GLD, Length: 2290, dtype: float64\n"
     ]
    }
   ],
   "source": [
    "print(X)\n",
    "\n",
    "print(Y)"
   ]
  },
  {
   "cell_type": "code",
   "execution_count": 69,
   "id": "c7e0d2f0",
   "metadata": {},
   "outputs": [],
   "source": [
    "# Spliting into Training data and Test Data\n",
    "\n",
    "X_train, X_test, Y_train, Y_test = train_test_split(X, Y, test_size = 0.2, random_state=2)"
   ]
  },
  {
   "cell_type": "code",
   "execution_count": 71,
   "id": "4795bebd",
   "metadata": {},
   "outputs": [],
   "source": [
    "# Model Training:\n",
    "# We are going to use Forest Regressor\n",
    "\n",
    "regressor = RandomForestRegressor(n_estimators=100)"
   ]
  },
  {
   "cell_type": "code",
   "execution_count": 74,
   "id": "484a87f2",
   "metadata": {},
   "outputs": [
    {
     "data": {
      "text/plain": [
       "RandomForestRegressor()"
      ]
     },
     "execution_count": 74,
     "metadata": {},
     "output_type": "execute_result"
    }
   ],
   "source": [
    "# Training the model now\n",
    "\n",
    "regressor.fit(X_train, Y_train)"
   ]
  },
  {
   "cell_type": "code",
   "execution_count": 76,
   "id": "b0c59671",
   "metadata": {},
   "outputs": [],
   "source": [
    "# Model Evaluation\n",
    "\n",
    "# Prediction on Test Data\n",
    "\n",
    "test_data_prediction = regressor.predict(X_test)"
   ]
  },
  {
   "cell_type": "code",
   "execution_count": 78,
   "id": "cd8d6020",
   "metadata": {},
   "outputs": [
    {
     "name": "stdout",
     "output_type": "stream",
     "text": [
      "[168.76270002  81.926      116.02030028 127.76090075 120.76860094\n",
      " 154.7757974  150.30469815 126.01920002 117.60709904 125.97120091\n",
      " 116.87310104 171.82680115 141.55219884 167.98249829 115.2668998\n",
      " 117.25130044 138.86010239 170.09790065 159.02100273 158.88120017\n",
      " 155.09830008 125.30110003 175.16060008 156.90250338 125.17920055\n",
      "  94.00799954  77.14090056 120.77339996 119.07889898 167.49919978\n",
      "  88.0376003  125.34070021  91.15170055 117.76110039 121.0771992\n",
      " 136.43480124 115.37140141 115.10160062 147.4807999  107.21050102\n",
      " 104.76450242  87.06669772 126.5974008  117.72520016 155.05349867\n",
      " 119.52979992 108.33480025 107.92389795  93.25070083 127.15099765\n",
      "  75.28210026 113.62269919 121.33660032 111.30109937 118.92639876\n",
      " 120.66759936 159.48950054 165.9033012  147.06429699  85.81359844\n",
      "  94.33760061  86.73919926  90.32549994 119.13640083 126.45070056\n",
      " 127.54390015 170.26730048 122.22529939 117.42109903  98.3331001\n",
      " 168.32920165 143.14479863 133.02960258 121.17240229 121.10819932\n",
      " 119.76360043 114.24500184 118.28400041 107.33400123 127.90860078\n",
      " 113.87349955 107.27829985 116.85130072 119.65519829  89.19890076\n",
      "  88.06109854 146.11380234 127.20240004 113.45710066 110.1238988\n",
      " 108.14129923  78.2767989  169.49710231 113.93689903 121.5424993\n",
      " 127.93580205 155.03529816  91.91559957 135.76500056 159.07180308\n",
      " 125.51440052 125.13680048 130.99040193 114.70270145 119.8194003\n",
      "  92.07350002 110.15919899 167.66859962 156.02669888 114.15499952\n",
      " 106.70840127  79.26399993 113.20900042 125.83580056 107.12399923\n",
      " 119.36260076 156.6402038  159.32879904 120.41380012 134.17950264\n",
      " 101.37139982 117.67339789 119.25400001 112.94970082 102.77969878\n",
      " 160.21749786  99.08200031 147.5352993  125.66480131 169.6692989\n",
      " 125.84609931 127.36799735 127.40000187 113.73239916 112.64280087\n",
      " 123.83749933 102.10359911  89.36360002 124.45699951 101.71159929\n",
      " 106.87429885 113.75600018 117.30310078  98.89189931 121.83980043\n",
      " 162.88189932  87.31029849 106.6094     116.96580094 127.72610117\n",
      " 123.90530029  80.70849925 120.31980053 156.98559827  88.06719978\n",
      " 110.37119968 118.97219908 172.44509928 102.94999924 105.36070031\n",
      " 122.37550021 157.8185975   87.35809852  93.69640037 112.96030024\n",
      " 176.62299977 114.53739962 119.3294001   94.67010098 125.81490017\n",
      " 166.21530096 114.81910055 116.57470156  88.13589845 148.63350048\n",
      " 120.51019947  89.57389995 112.4161996  117.0784006  118.6970013\n",
      "  88.12329969  94.1110002  117.01770037 118.6407021  120.46210022\n",
      " 126.69899831 121.81979989 149.14729964 165.46390045 118.57749958\n",
      " 120.33590115 150.11600082 118.41999971 172.58469917 104.94119926\n",
      " 104.88170145 148.86880061 113.85370059 124.78480115 147.51280079\n",
      " 119.6978013  115.21200026 112.56189986 113.46780189 140.46120136\n",
      " 117.84339779 102.89070024 115.85930121 104.09100188  98.61600004\n",
      " 117.63650075  90.70769997  91.27180067 153.74819922 102.7301999\n",
      " 154.96680121 114.3181016  138.28310044  90.13099807 115.5051993\n",
      " 114.21509985 122.76610081 121.75920005 165.3489018   92.8644994\n",
      " 134.75940089 121.27979953 120.53600109 104.56830036 142.4714025\n",
      " 121.36699941 116.61690061 113.64280062 127.0541979  122.74549936\n",
      " 125.93039921 121.14590069  86.87119909 132.91560155 144.07770201\n",
      "  92.75589984 158.66119941 158.58450204 126.48589896 164.82629932\n",
      " 108.81559977 109.60220056 103.54399805  94.49420016 127.54450242\n",
      " 107.05750036 161.75949976 121.82560044 131.94209945 131.04410189\n",
      " 160.78710021  90.18639832 174.80760246 127.83649992 126.73329876\n",
      "  86.33679938 124.30479935 150.47629769  89.58570001 106.72209985\n",
      " 109.05569959  84.6369993  135.78669928 155.22430224 139.98850345\n",
      "  73.51000007 151.82960071 125.99519991 126.76569951 127.58449883\n",
      " 108.60249946 156.56120081 114.58470153 116.92250113 124.95889924\n",
      " 154.0137015  121.43549988 156.35249866  92.84710054 125.50160123\n",
      " 125.7828003   87.97580046  92.16249892 126.12749981 128.52030359\n",
      " 113.17540043 117.64179735 120.85580043 126.99259857 119.85140103\n",
      " 136.36960038  94.07659943 119.65800054 113.29970085  94.29479936\n",
      " 108.75719984  87.58539932 109.21209957  89.64119967  92.46939992\n",
      " 131.85330379 162.21610071  89.4183     119.64040084 133.5917017\n",
      " 123.90570027 128.53490233 101.8852984   89.04649894 131.38960041\n",
      " 119.96880036 108.61610054 168.21810049 115.04770063  86.69109904\n",
      " 119.02340056  91.16359965 161.67970082 116.67350053 121.82329987\n",
      " 160.21959778 120.10549939 112.78229959 108.35129906 126.85189979\n",
      "  75.92480034 102.98219979 127.37580251 121.81449954  92.59390004\n",
      " 132.0513003  118.09540136 116.07089967 154.52400275 158.66400053\n",
      " 110.03439974 155.81509786 119.27760093 160.45510101 118.35400028\n",
      " 158.28429969 115.09489898 116.56690021 149.82759903 114.49710123\n",
      " 125.85359924 166.37869891 117.85860006 125.05209937 153.4336038\n",
      " 153.38860274 132.16650061 114.54530053 121.18700198 124.71140056\n",
      "  89.78660044 122.76830003 155.49060239 111.9003006  106.66689971\n",
      " 161.81950155 118.65139979 165.71259961 134.16280155 115.18160004\n",
      " 153.01409892 168.67629942 114.91560021 113.99550141 158.3311989\n",
      "  85.31519895 127.14320055 128.04330001 128.86929971 124.37630056\n",
      " 124.04100117  90.75300052 152.99950034  97.11369999 137.61069937\n",
      "  89.04299905 107.34529988 114.88210018 112.29010108 124.24449945\n",
      "  91.46369898 125.31280109 162.18619963 119.95619873 165.02390133\n",
      " 126.72299838 112.60950017 127.65059874  95.15079892  90.96849963\n",
      " 102.91719907 120.80520021  83.10439946 126.24249925 160.21480462\n",
      " 117.34020076 118.29459971 120.0235002  122.6321996  120.04990141\n",
      " 121.47819995 118.47590083 106.92859983 148.0739997  126.20419873\n",
      " 115.74740103  73.96509994 127.88660139 155.39210091 122.88810034\n",
      " 125.54790054  88.73350022 102.99399878 124.19760061 120.24310034\n",
      "  73.39170058 151.87339997 121.19740078 104.59600006  86.27649799\n",
      " 114.98929916 172.23489854 119.93110029 159.18329851 113.19719954\n",
      " 121.02200053 118.61010114  95.86059987 118.89150062 125.91790049\n",
      " 118.41059955  95.95910056 154.00430227 122.38220008 147.48850001\n",
      " 159.78210178 113.90220021 122.54479924 149.89639808 127.4684004\n",
      " 165.96000079 135.65630067 120.09529905 167.4563984  108.26459892\n",
      " 121.72519854 138.76740148 106.1572988 ]\n"
     ]
    }
   ],
   "source": [
    "print(test_data_prediction)"
   ]
  },
  {
   "cell_type": "code",
   "execution_count": 84,
   "id": "5fddc789",
   "metadata": {},
   "outputs": [
    {
     "name": "stdout",
     "output_type": "stream",
     "text": [
      "R squared error : 0.9892830411893843\n"
     ]
    }
   ],
   "source": [
    "# R squared error\n",
    "\n",
    "error_score = metrics.r2_score(Y_test, test_data_prediction)\n",
    "\n",
    "print('R squared error :', error_score)"
   ]
  },
  {
   "cell_type": "code",
   "execution_count": 86,
   "id": "56964e5d",
   "metadata": {},
   "outputs": [],
   "source": [
    "# Compare Actual Values and Predicted Values in a Plot\n",
    "# Convert Y_test into a list firstly. The below we handle that and convert it into a list\n",
    "\n",
    "Y_test = list(Y_test)"
   ]
  },
  {
   "cell_type": "code",
   "execution_count": 90,
   "id": "4e4d36b1",
   "metadata": {},
   "outputs": [
    {
     "data": {
      "image/png": "[encoded data removed]",
      "text/plain": [
       "<Figure size 432x288 with 1 Axes>"
      ]
     },
     "metadata": {
      "needs_background": "light"
     },
     "output_type": "display_data"
    }
   ],
   "source": [
    "plt.plot(Y_test, color= 'blue', label = 'Actaul Value')\n",
    "plt.plot(test_data_prediction, color= 'green', label= 'Predicted Value')\n",
    "plt.title('Actual Price vs Predicted Price')\n",
    "plt.xlabel('Number of values')\n",
    "plt.ylabel('GLD Price')\n",
    "plt.legend()\n",
    "plt.show()"
   ]
  }
 ],
 "metadata": {
  "kernelspec": {
   "display_name": "Python 3 (ipykernel)",
   "language": "python",
   "name": "python3"
  },
  "language_info": {
   "codemirror_mode": {
    "name": "ipython",
    "version": 3
   },
   "file_extension": ".py",
   "mimetype": "text/x-python",
   "name": "python",
   "nbconvert_exporter": "python",
   "pygments_lexer": "ipython3",
   "version": "3.9.7"
  }
 },
 "nbformat": 4,
 "nbformat_minor": 5
}
